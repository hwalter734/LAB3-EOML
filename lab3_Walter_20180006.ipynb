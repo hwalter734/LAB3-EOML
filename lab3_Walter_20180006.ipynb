{
 "metadata": {
  "language_info": {
   "codemirror_mode": {
    "name": "ipython",
    "version": 3
   },
   "file_extension": ".py",
   "mimetype": "text/x-python",
   "name": "python",
   "nbconvert_exporter": "python",
   "pygments_lexer": "ipython3",
   "version": "3.8.6-final"
  },
  "orig_nbformat": 2,
  "kernelspec": {
   "name": "python3",
   "display_name": "Python 3",
   "language": "python"
  }
 },
 "nbformat": 4,
 "nbformat_minor": 2,
 "cells": [
  {
   "cell_type": "code",
   "execution_count": 1,
   "metadata": {},
   "outputs": [],
   "source": [
    "import pandas as pd \n",
    "import numpy as np\n",
    "import matplotlib.pyplot as plt"
   ]
  },
  {
   "cell_type": "code",
   "execution_count": 2,
   "metadata": {},
   "outputs": [
    {
     "output_type": "execute_result",
     "data": {
      "text/plain": [
       "   ones  sex  sat_sum  hs_gpa  fy_gpa\n",
       "0     1    1      127    3.40    3.18\n",
       "1     1    2      122    4.00    3.33\n",
       "2     1    2      116    3.75    3.25\n",
       "3     1    1       95    3.75    2.42\n",
       "4     1    1      107    4.00    2.63"
      ],
      "text/html": "<div>\n<style scoped>\n    .dataframe tbody tr th:only-of-type {\n        vertical-align: middle;\n    }\n\n    .dataframe tbody tr th {\n        vertical-align: top;\n    }\n\n    .dataframe thead th {\n        text-align: right;\n    }\n</style>\n<table border=\"1\" class=\"dataframe\">\n  <thead>\n    <tr style=\"text-align: right;\">\n      <th></th>\n      <th>ones</th>\n      <th>sex</th>\n      <th>sat_sum</th>\n      <th>hs_gpa</th>\n      <th>fy_gpa</th>\n    </tr>\n  </thead>\n  <tbody>\n    <tr>\n      <th>0</th>\n      <td>1</td>\n      <td>1</td>\n      <td>127</td>\n      <td>3.40</td>\n      <td>3.18</td>\n    </tr>\n    <tr>\n      <th>1</th>\n      <td>1</td>\n      <td>2</td>\n      <td>122</td>\n      <td>4.00</td>\n      <td>3.33</td>\n    </tr>\n    <tr>\n      <th>2</th>\n      <td>1</td>\n      <td>2</td>\n      <td>116</td>\n      <td>3.75</td>\n      <td>3.25</td>\n    </tr>\n    <tr>\n      <th>3</th>\n      <td>1</td>\n      <td>1</td>\n      <td>95</td>\n      <td>3.75</td>\n      <td>2.42</td>\n    </tr>\n    <tr>\n      <th>4</th>\n      <td>1</td>\n      <td>1</td>\n      <td>107</td>\n      <td>4.00</td>\n      <td>2.63</td>\n    </tr>\n  </tbody>\n</table>\n</div>"
     },
     "metadata": {},
     "execution_count": 2
    }
   ],
   "source": [
    "df = pd.read_csv('satgpa.csv')\n",
    "df.insert(loc=0, column='ones', value=1) #Agregamos la columna de unos\n",
    "df.drop(['sat_v', 'sat_m'], axis=1, inplace=True)\n",
    "df.head()\n",
    "# Dejamos solo las columnas de interés que son: sexo, total de percentil de SAT verbal y matemática, y el promedio GPA en highschool"
   ]
  },
  {
   "cell_type": "code",
   "execution_count": 3,
   "metadata": {},
   "outputs": [],
   "source": [
    "y_column = df.pop('fy_gpa').to_numpy().reshape(1000,1)\n",
    "x_columns = df.to_numpy()"
   ]
  },
  {
   "cell_type": "code",
   "execution_count": 4,
   "metadata": {},
   "outputs": [
    {
     "output_type": "execute_result",
     "data": {
      "text/plain": [
       "array([[  1.  ,   1.  , 127.  ,   3.4 ],\n",
       "       [  1.  ,   2.  , 122.  ,   4.  ],\n",
       "       [  1.  ,   2.  , 116.  ,   3.75],\n",
       "       ...,\n",
       "       [  1.  ,   1.  , 114.  ,   3.5 ],\n",
       "       [  1.  ,   1.  , 120.  ,   2.3 ],\n",
       "       [  1.  ,   1.  ,  93.  ,   2.7 ]])"
      ]
     },
     "metadata": {},
     "execution_count": 4
    }
   ],
   "source": [
    "x_columns"
   ]
  },
  {
   "cell_type": "code",
   "execution_count": 5,
   "metadata": {},
   "outputs": [],
   "source": [
    "m, n = x_columns.shape"
   ]
  },
  {
   "cell_type": "code",
   "execution_count": 6,
   "metadata": {},
   "outputs": [
    {
     "output_type": "execute_result",
     "data": {
      "text/plain": [
       "(1000, 4)"
      ]
     },
     "metadata": {},
     "execution_count": 6
    }
   ],
   "source": [
    "x_columns.shape"
   ]
  },
  {
   "cell_type": "code",
   "execution_count": 7,
   "metadata": {},
   "outputs": [
    {
     "output_type": "execute_result",
     "data": {
      "text/plain": [
       "array([[0.58284234],\n",
       "       [0.56046328],\n",
       "       [0.26890819],\n",
       "       [0.87012363]])"
      ]
     },
     "metadata": {},
     "execution_count": 7
    }
   ],
   "source": [
    "random_theta = np.random.rand(n,1)\n",
    "random_theta"
   ]
  },
  {
   "cell_type": "code",
   "execution_count": 8,
   "metadata": {},
   "outputs": [],
   "source": [
    "def linear_function_grades(X, y, theta):\n",
    "    h = X @ theta\n",
    "    return ((y - h) ** 2).sum() / (2 * len(X))\n",
    "\n",
    "def linear_gradient_grades(X, y, theta):\n",
    "    h = X @ theta\n",
    "    return (X.T @ (h - y)) / len(X)\n",
    "\n",
    "def gradient_descent_grades(X, y, theta_0, linear_function, linear_gradient, learning_rate=0.0001, threshold= 0.001, max_iter=1000):\n",
    "    theta = theta_0\n",
    "    iteration = 0\n",
    "    grades = []\n",
    "\n",
    "    while np.linalg.norm(linear_gradient(X, y, theta)) > threshold and iteration < max_iter:\n",
    "        iteration += 1\n",
    "        theta = theta - learning_rate * linear_gradient(X, y, theta)\n",
    "        grades.append(linear_function(X, y, theta))\n",
    "    return theta"
   ]
  },
  {
   "cell_type": "code",
   "execution_count": 16,
   "metadata": {
    "tags": []
   },
   "outputs": [
    {
     "output_type": "execute_result",
     "data": {
      "text/plain": [
       "array([[ 0.57450674],\n",
       "       [ 0.53309581],\n",
       "       [-0.01489237],\n",
       "       [ 0.84321739]])"
      ]
     },
     "metadata": {},
     "execution_count": 16
    }
   ],
   "source": [
    "theta_results1 = gradient_descent_grades(x_columns, y_column, random_theta, linear_function_grades, linear_gradient_grades)\n",
    "theta_results1"
   ]
  },
  {
   "cell_type": "code",
   "execution_count": 29,
   "metadata": {},
   "outputs": [
    {
     "output_type": "execute_result",
     "data": {
      "text/plain": [
       "array([[4.79495083e-01],\n",
       "       [9.90473528e-01],\n",
       "       [6.15355716e-06],\n",
       "       [1.79079867e-01]])"
      ]
     },
     "metadata": {},
     "execution_count": 29
    }
   ],
   "source": [
    "def gradient_descent_grades(X, y, theta_0, linear_function, linear_gradient, learning_rate=0.0001, threshold= 0.5, max_iter=1000):\n",
    "    theta = theta_0\n",
    "    iteration = 0\n",
    "    grades = []\n",
    "\n",
    "    while np.linalg.norm(linear_gradient(X, y, theta)) > threshold and iteration < max_iter:\n",
    "        iteration += 1\n",
    "        theta = theta - learning_rate * linear_gradient(X, y, theta)\n",
    "        grades.append(linear_function(X, y, theta))\n",
    "    return theta\n",
    "    \n",
    "theta_results2 = gradient_descent_grades(x_columns, y_column, random_theta, linear_function_grades, linear_gradient_grades)\n",
    "theta_results2"
   ]
  },
  {
   "cell_type": "code",
   "execution_count": 62,
   "metadata": {},
   "outputs": [
    {
     "output_type": "execute_result",
     "data": {
      "text/plain": [
       "array([[ 0.58011563],\n",
       "       [ 0.55638711],\n",
       "       [-0.01580823],\n",
       "       [ 0.8613148 ]])"
      ]
     },
     "metadata": {},
     "execution_count": 62
    }
   ],
   "source": [
    "def gradient_descent_grades(X, y, theta_0, linear_function, linear_gradient, learning_rate=0.0001, threshold= 2, max_iter=1000):\n",
    "    theta = theta_0\n",
    "    iteration = 0\n",
    "    grades = []\n",
    "\n",
    "    while np.linalg.norm(linear_gradient(X, y, theta)) > threshold and iteration < max_iter:\n",
    "        iteration += 1\n",
    "        theta = theta - learning_rate * linear_gradient(X, y, theta)\n",
    "        grades.append(linear_function(X, y, theta))\n",
    "    return theta\n",
    "    \n",
    "theta_results3 = gradient_descent_grades(x_columns, y_column, random_theta, linear_function_grades, linear_gradient_grades)\n",
    "theta_results3"
   ]
  }
 ]
}